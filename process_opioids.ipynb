{
 "cells": [
  {
   "cell_type": "code",
   "execution_count": 105,
   "metadata": {
    "collapsed": true
   },
   "outputs": [],
   "source": [
    "import numpy as np\n",
    "import pandas as pd"
   ]
  },
  {
   "cell_type": "code",
   "execution_count": null,
   "metadata": {
    "collapsed": true
   },
   "outputs": [],
   "source": [
    "hsa_hrr = pd.read_excel('./ZipHsaHrr14.xls')"
   ]
  },
  {
   "cell_type": "code",
   "execution_count": 146,
   "metadata": {
    "collapsed": true
   },
   "outputs": [],
   "source": [
    "scripts = pd.read_csv('./PARTD_PRESCRIBER_PUF_NPI_DRUG_13.tab', sep='\\t')"
   ]
  },
  {
   "cell_type": "code",
   "execution_count": 19,
   "metadata": {
    "collapsed": false
   },
   "outputs": [],
   "source": [
    "opioids = scripts.GENERIC_NAME.str.startswith('HYDROCODONE') | scripts.GENERIC_NAME.str.startswith('OXYCODONE') | scripts.GENERIC_NAME.str.startswith('MORPHINE')"
   ]
  },
  {
   "cell_type": "code",
   "execution_count": 26,
   "metadata": {
    "collapsed": false
   },
   "outputs": [],
   "source": [
    "neuro = scripts.SPECIALTY_DESC.str.lower().str.contains('neurology')"
   ]
  },
  {
   "cell_type": "code",
   "execution_count": 69,
   "metadata": {
    "collapsed": true
   },
   "outputs": [],
   "source": [
    "subset = scripts[neuro & opioids]"
   ]
  },
  {
   "cell_type": "code",
   "execution_count": 37,
   "metadata": {
    "collapsed": false
   },
   "outputs": [
    {
     "data": {
      "text/plain": [
       "16490                SAGINAW\n",
       "23861             WELLINGTON\n",
       "23878             WELLINGTON\n",
       "23887             WELLINGTON\n",
       "23888             WELLINGTON\n",
       "23895             WELLINGTON\n",
       "23896             WELLINGTON\n",
       "35275          EAST SYRACUSE\n",
       "52851             BURNSVILLE\n",
       "52858             BURNSVILLE\n",
       "56781              ROSEVILLE\n",
       "64810           INDIANAPOLIS\n",
       "74010           LAKE CHARLES\n",
       "74016           LAKE CHARLES\n",
       "74073                HAYWARD\n",
       "80007             GREENVILLE\n",
       "80042             GREENVILLE\n",
       "82183           MERRILLVILLE\n",
       "82311                ARDMORE\n",
       "86754                 OWOSSO\n",
       "86796                 OWOSSO\n",
       "90672              AGUADILLA\n",
       "94784                HOUSTON\n",
       "94949                OAKLAND\n",
       "94972            SAINT LOUIS\n",
       "94976            SAINT LOUIS\n",
       "94979            SAINT LOUIS\n",
       "94980            SAINT LOUIS\n",
       "99304            CHATTANOOGA\n",
       "103221          NORTH EASTON\n",
       "                  ...       \n",
       "23571422          CARROLLTON\n",
       "23571426          CARROLLTON\n",
       "23572453              TACOMA\n",
       "23573424       BOWLING GREEN\n",
       "23588752              AURORA\n",
       "23588759              AURORA\n",
       "23588760              AURORA\n",
       "23593544               FLINT\n",
       "23598580    WEST VALLEY CITY\n",
       "23599646      CORPUS CHRISTI\n",
       "23604700      SALT LAKE CITY\n",
       "23611278     OAKLAND GARDENS\n",
       "23611284     OAKLAND GARDENS\n",
       "23611309     OAKLAND GARDENS\n",
       "23611310     OAKLAND GARDENS\n",
       "23613473           REGO PARK\n",
       "23620477              CANTON\n",
       "23622807                YUMA\n",
       "23628984       OKLAHOMA CITY\n",
       "23632831         BATON ROUGE\n",
       "23632855         BATON ROUGE\n",
       "23633984         SAN ANTONIO\n",
       "23634835           FREDERICK\n",
       "23634841           FREDERICK\n",
       "23634842           FREDERICK\n",
       "23639530     WEST PALM BEACH\n",
       "23644601             DETROIT\n",
       "23645765           SHEBOYGAN\n",
       "23645775           SHEBOYGAN\n",
       "23646462          SHREVEPORT\n",
       "Name: NPPES_PROVIDER_CITY, dtype: object"
      ]
     },
     "execution_count": 37,
     "metadata": {},
     "output_type": "execute_result"
    }
   ],
   "source": [
    "subset.NPPES_PROVIDER_CITY"
   ]
  },
  {
   "cell_type": "code",
   "execution_count": 42,
   "metadata": {
    "collapsed": false
   },
   "outputs": [],
   "source": [
    "city2zip = {}\n",
    "for r in hsa_hrr[['zipcode14', 'hrrcity']].iterrows():\n",
    "    if r[1][1].lower() not in city2zip:\n",
    "        city2zip[r[1][1].lower()] = r[1][0]"
   ]
  },
  {
   "cell_type": "code",
   "execution_count": 57,
   "metadata": {
    "collapsed": false
   },
   "outputs": [],
   "source": [
    "scripts['zipcode'] = scripts.zipcode"
   ]
  },
  {
   "cell_type": "code",
   "execution_count": 60,
   "metadata": {
    "collapsed": false
   },
   "outputs": [
    {
     "data": {
      "text/plain": [
       "0.64213670566228565"
      ]
     },
     "execution_count": 60,
     "metadata": {},
     "output_type": "execute_result"
    }
   ],
   "source": [
    "scripts.zipcode.isnull().sum()/len(scripts)"
   ]
  },
  {
   "cell_type": "code",
   "execution_count": 81,
   "metadata": {
    "collapsed": false
   },
   "outputs": [],
   "source": [
    "foo = hsa_hrr[['hsanum', 'hsacity', 'hsastate', 'hrrnum', 'hrrcity', 'hrrstate']].copy()"
   ]
  },
  {
   "cell_type": "code",
   "execution_count": 84,
   "metadata": {
    "collapsed": false
   },
   "outputs": [],
   "source": [
    "bar=foo.drop_duplicates()"
   ]
  },
  {
   "cell_type": "code",
   "execution_count": 99,
   "metadata": {
    "collapsed": false
   },
   "outputs": [],
   "source": [
    "ix=bar.loc[0,:].index"
   ]
  },
  {
   "cell_type": "code",
   "execution_count": 147,
   "metadata": {
    "collapsed": false
   },
   "outputs": [],
   "source": [
    "for nam in ix: scripts[nam] = np.nan"
   ]
  },
  {
   "cell_type": "code",
   "execution_count": 118,
   "metadata": {
    "collapsed": true
   },
   "outputs": [],
   "source": [
    "hsa2row = {}\n",
    "hrr2row = {}\n",
    "for r in bar.iterrows():\n",
    "    if r[1][1].lower() not in hsa2row:\n",
    "        hsa2row[r[1][1].lower()] = r[0]\n",
    "    if r[1][4].lower() not in hrr2row:\n",
    "        hrr2row[r[1][4].lower()] = r[0]"
   ]
  },
  {
   "cell_type": "code",
   "execution_count": 163,
   "metadata": {
    "collapsed": true
   },
   "outputs": [],
   "source": [
    "def loc(city):\n",
    "    city = city.lower()\n",
    "    if city in hsa2row:\n",
    "        return hsa_hrr.loc[hsa2row[city]]\n",
    "    if city in hrr2row:\n",
    "        return hsa_hrr.loc[hrr2row[city]]\n",
    "    return None"
   ]
  },
  {
   "cell_type": "code",
   "execution_count": 150,
   "metadata": {
    "collapsed": false
   },
   "outputs": [
    {
     "ename": "KeyboardInterrupt",
     "evalue": "",
     "output_type": "error",
     "traceback": [
      "\u001b[0;31m---------------------------------------------------------------------------\u001b[0m",
      "\u001b[0;31mKeyboardInterrupt\u001b[0m                         Traceback (most recent call last)",
      "\u001b[0;32m<ipython-input-150-f2e8abcdef8d>\u001b[0m in \u001b[0;36m<module>\u001b[0;34m()\u001b[0m\n\u001b[1;32m      1\u001b[0m \u001b[0;32mfor\u001b[0m \u001b[0mr\u001b[0m \u001b[0;32min\u001b[0m \u001b[0mscripts\u001b[0m\u001b[0;34m.\u001b[0m\u001b[0mindex\u001b[0m\u001b[0;34m[\u001b[0m\u001b[0;36m100\u001b[0m\u001b[0;34m:\u001b[0m\u001b[0;34m]\u001b[0m\u001b[0;34m:\u001b[0m\u001b[0;34m\u001b[0m\u001b[0m\n\u001b[1;32m      2\u001b[0m     \u001b[0mx\u001b[0m \u001b[0;34m=\u001b[0m \u001b[0mloc\u001b[0m\u001b[0;34m(\u001b[0m\u001b[0mscripts\u001b[0m\u001b[0;34m.\u001b[0m\u001b[0mloc\u001b[0m\u001b[0;34m[\u001b[0m\u001b[0mr\u001b[0m\u001b[0;34m,\u001b[0m \u001b[0;34m'NPPES_PROVIDER_CITY'\u001b[0m\u001b[0;34m]\u001b[0m\u001b[0;34m)\u001b[0m\u001b[0;34m\u001b[0m\u001b[0m\n\u001b[0;32m----> 3\u001b[0;31m     \u001b[0mscripts\u001b[0m\u001b[0;34m.\u001b[0m\u001b[0mloc\u001b[0m\u001b[0;34m[\u001b[0m\u001b[0mr\u001b[0m\u001b[0;34m,\u001b[0m \u001b[0;34m[\u001b[0m\u001b[0;34m'hsanum'\u001b[0m\u001b[0;34m,\u001b[0m \u001b[0;34m'hsacity'\u001b[0m\u001b[0;34m,\u001b[0m \u001b[0;34m'hsastate'\u001b[0m\u001b[0;34m,\u001b[0m \u001b[0;34m'hrrcity'\u001b[0m\u001b[0;34m,\u001b[0m \u001b[0;34m'hrrstate'\u001b[0m\u001b[0;34m]\u001b[0m\u001b[0;34m]\u001b[0m \u001b[0;34m=\u001b[0m \u001b[0mx\u001b[0m\u001b[0;34m\u001b[0m\u001b[0m\n\u001b[0m",
      "\u001b[0;32m/usr/local/lib/python3.5/site-packages/pandas/core/indexing.py\u001b[0m in \u001b[0;36m__setitem__\u001b[0;34m(self, key, value)\u001b[0m\n\u001b[1;32m    115\u001b[0m     \u001b[0;32mdef\u001b[0m \u001b[0m__setitem__\u001b[0m\u001b[0;34m(\u001b[0m\u001b[0mself\u001b[0m\u001b[0;34m,\u001b[0m \u001b[0mkey\u001b[0m\u001b[0;34m,\u001b[0m \u001b[0mvalue\u001b[0m\u001b[0;34m)\u001b[0m\u001b[0;34m:\u001b[0m\u001b[0;34m\u001b[0m\u001b[0m\n\u001b[1;32m    116\u001b[0m         \u001b[0mindexer\u001b[0m \u001b[0;34m=\u001b[0m \u001b[0mself\u001b[0m\u001b[0;34m.\u001b[0m\u001b[0m_get_setitem_indexer\u001b[0m\u001b[0;34m(\u001b[0m\u001b[0mkey\u001b[0m\u001b[0;34m)\u001b[0m\u001b[0;34m\u001b[0m\u001b[0m\n\u001b[0;32m--> 117\u001b[0;31m         \u001b[0mself\u001b[0m\u001b[0;34m.\u001b[0m\u001b[0m_setitem_with_indexer\u001b[0m\u001b[0;34m(\u001b[0m\u001b[0mindexer\u001b[0m\u001b[0;34m,\u001b[0m \u001b[0mvalue\u001b[0m\u001b[0;34m)\u001b[0m\u001b[0;34m\u001b[0m\u001b[0m\n\u001b[0m\u001b[1;32m    118\u001b[0m \u001b[0;34m\u001b[0m\u001b[0m\n\u001b[1;32m    119\u001b[0m     \u001b[0;32mdef\u001b[0m \u001b[0m_has_valid_type\u001b[0m\u001b[0;34m(\u001b[0m\u001b[0mself\u001b[0m\u001b[0;34m,\u001b[0m \u001b[0mk\u001b[0m\u001b[0;34m,\u001b[0m \u001b[0maxis\u001b[0m\u001b[0;34m)\u001b[0m\u001b[0;34m:\u001b[0m\u001b[0;34m\u001b[0m\u001b[0m\n",
      "\u001b[0;32m/usr/local/lib/python3.5/site-packages/pandas/core/indexing.py\u001b[0m in \u001b[0;36m_setitem_with_indexer\u001b[0;34m(self, indexer, value)\u001b[0m\n\u001b[1;32m    490\u001b[0m \u001b[0;34m\u001b[0m\u001b[0m\n\u001b[1;32m    491\u001b[0m                     \u001b[0;32mfor\u001b[0m \u001b[0mitem\u001b[0m\u001b[0;34m,\u001b[0m \u001b[0mv\u001b[0m \u001b[0;32min\u001b[0m \u001b[0mzip\u001b[0m\u001b[0;34m(\u001b[0m\u001b[0mlabels\u001b[0m\u001b[0;34m,\u001b[0m \u001b[0mvalue\u001b[0m\u001b[0;34m)\u001b[0m\u001b[0;34m:\u001b[0m\u001b[0;34m\u001b[0m\u001b[0m\n\u001b[0;32m--> 492\u001b[0;31m                         \u001b[0msetter\u001b[0m\u001b[0;34m(\u001b[0m\u001b[0mitem\u001b[0m\u001b[0;34m,\u001b[0m \u001b[0mv\u001b[0m\u001b[0;34m)\u001b[0m\u001b[0;34m\u001b[0m\u001b[0m\n\u001b[0m\u001b[1;32m    493\u001b[0m             \u001b[0;32melse\u001b[0m\u001b[0;34m:\u001b[0m\u001b[0;34m\u001b[0m\u001b[0m\n\u001b[1;32m    494\u001b[0m \u001b[0;34m\u001b[0m\u001b[0m\n",
      "\u001b[0;31mKeyboardInterrupt\u001b[0m: "
     ]
    }
   ],
   "source": [
    "for r in scripts.index[100:]:\n",
    "    x = loc(scripts.loc[r, 'NPPES_PROVIDER_CITY'])\n",
    "    scripts.loc[r, ['hsanum', 'hsacity', 'hsastate', 'hrrcity', 'hrrstate']] = x"
   ]
  },
  {
   "cell_type": "code",
   "execution_count": 152,
   "metadata": {
    "collapsed": false
   },
   "outputs": [],
   "source": [
    "subset = scripts[opioids & neuro]"
   ]
  },
  {
   "cell_type": "code",
   "execution_count": 164,
   "metadata": {
    "collapsed": false
   },
   "outputs": [
    {
     "name": "stderr",
     "output_type": "stream",
     "text": [
      "/usr/local/lib/python3.5/site-packages/pandas/core/indexing.py:426: SettingWithCopyWarning: \n",
      "A value is trying to be set on a copy of a slice from a DataFrame.\n",
      "Try using .loc[row_indexer,col_indexer] = value instead\n",
      "\n",
      "See the caveats in the documentation: http://pandas.pydata.org/pandas-docs/stable/indexing.html#indexing-view-versus-copy\n",
      "  self.obj[item] = s\n"
     ]
    }
   ],
   "source": [
    "for r in subset.index:\n",
    "    x = loc(subset.loc[r, 'NPPES_PROVIDER_CITY'])\n",
    "    if x is not None:\n",
    "        subset.loc[r, 'hrrnum'] = x['hrrnum']"
   ]
  },
  {
   "cell_type": "code",
   "execution_count": 159,
   "metadata": {
    "collapsed": false
   },
   "outputs": [
    {
     "data": {
      "text/html": [
       "<div>\n",
       "<table border=\"1\" class=\"dataframe\">\n",
       "  <thead>\n",
       "    <tr style=\"text-align: right;\">\n",
       "      <th></th>\n",
       "      <th>NPI</th>\n",
       "      <th>NPPES_PROVIDER_LAST_ORG_NAME</th>\n",
       "      <th>NPPES_PROVIDER_FIRST_NAME</th>\n",
       "      <th>NPPES_PROVIDER_CITY</th>\n",
       "      <th>NPPES_PROVIDER_STATE</th>\n",
       "      <th>SPECIALTY_DESC</th>\n",
       "      <th>DESCRIPTION_FLAG</th>\n",
       "      <th>DRUG_NAME</th>\n",
       "      <th>GENERIC_NAME</th>\n",
       "      <th>BENE_COUNT</th>\n",
       "      <th>...</th>\n",
       "      <th>TOTAL_CLAIM_COUNT_GE65</th>\n",
       "      <th>GE65_REDACT_FLAG</th>\n",
       "      <th>TOTAL_DAY_SUPPLY_GE65</th>\n",
       "      <th>TOTAL_DRUG_COST_GE65</th>\n",
       "      <th>hsanum</th>\n",
       "      <th>hsacity</th>\n",
       "      <th>hsastate</th>\n",
       "      <th>hrrnum</th>\n",
       "      <th>hrrcity</th>\n",
       "      <th>hrrstate</th>\n",
       "    </tr>\n",
       "  </thead>\n",
       "  <tbody>\n",
       "    <tr>\n",
       "      <th>16490</th>\n",
       "      <td>1326035650</td>\n",
       "      <td>ABBOTT</td>\n",
       "      <td>FAITH</td>\n",
       "      <td>SAGINAW</td>\n",
       "      <td>MI</td>\n",
       "      <td>Neurology</td>\n",
       "      <td>S</td>\n",
       "      <td>HYDROCODONE-ACETAMINOPHEN</td>\n",
       "      <td>HYDROCODONE/ACETAMINOPHEN</td>\n",
       "      <td>NaN</td>\n",
       "      <td>...</td>\n",
       "      <td>NaN</td>\n",
       "      <td>*</td>\n",
       "      <td>NaN</td>\n",
       "      <td>NaN</td>\n",
       "      <td>23098</td>\n",
       "      <td>Saginaw</td>\n",
       "      <td>MI</td>\n",
       "      <td>NaN</td>\n",
       "      <td>Saginaw</td>\n",
       "      <td>MI</td>\n",
       "    </tr>\n",
       "    <tr>\n",
       "      <th>23861</th>\n",
       "      <td>1518077056</td>\n",
       "      <td>ABDEL-HALIM</td>\n",
       "      <td>JAMAL</td>\n",
       "      <td>WELLINGTON</td>\n",
       "      <td>FL</td>\n",
       "      <td>Neurology</td>\n",
       "      <td>S</td>\n",
       "      <td>AVINZA</td>\n",
       "      <td>MORPHINE SULFATE</td>\n",
       "      <td>NaN</td>\n",
       "      <td>...</td>\n",
       "      <td>0</td>\n",
       "      <td>NaN</td>\n",
       "      <td>0</td>\n",
       "      <td>0</td>\n",
       "      <td>17121</td>\n",
       "      <td>Wellington</td>\n",
       "      <td>KS</td>\n",
       "      <td>NaN</td>\n",
       "      <td>Wichita</td>\n",
       "      <td>KS</td>\n",
       "    </tr>\n",
       "    <tr>\n",
       "      <th>23878</th>\n",
       "      <td>1518077056</td>\n",
       "      <td>ABDEL-HALIM</td>\n",
       "      <td>JAMAL</td>\n",
       "      <td>WELLINGTON</td>\n",
       "      <td>FL</td>\n",
       "      <td>Neurology</td>\n",
       "      <td>S</td>\n",
       "      <td>HYDROCODONE-ACETAMINOPHEN</td>\n",
       "      <td>HYDROCODONE/ACETAMINOPHEN</td>\n",
       "      <td>25</td>\n",
       "      <td>...</td>\n",
       "      <td>36</td>\n",
       "      <td>NaN</td>\n",
       "      <td>1065</td>\n",
       "      <td>577</td>\n",
       "      <td>17121</td>\n",
       "      <td>Wellington</td>\n",
       "      <td>KS</td>\n",
       "      <td>NaN</td>\n",
       "      <td>Wichita</td>\n",
       "      <td>KS</td>\n",
       "    </tr>\n",
       "    <tr>\n",
       "      <th>23887</th>\n",
       "      <td>1518077056</td>\n",
       "      <td>ABDEL-HALIM</td>\n",
       "      <td>JAMAL</td>\n",
       "      <td>WELLINGTON</td>\n",
       "      <td>FL</td>\n",
       "      <td>Neurology</td>\n",
       "      <td>S</td>\n",
       "      <td>MORPHINE SULFATE</td>\n",
       "      <td>MORPHINE SULFATE</td>\n",
       "      <td>NaN</td>\n",
       "      <td>...</td>\n",
       "      <td>0</td>\n",
       "      <td>NaN</td>\n",
       "      <td>0</td>\n",
       "      <td>0</td>\n",
       "      <td>17121</td>\n",
       "      <td>Wellington</td>\n",
       "      <td>KS</td>\n",
       "      <td>NaN</td>\n",
       "      <td>Wichita</td>\n",
       "      <td>KS</td>\n",
       "    </tr>\n",
       "    <tr>\n",
       "      <th>23888</th>\n",
       "      <td>1518077056</td>\n",
       "      <td>ABDEL-HALIM</td>\n",
       "      <td>JAMAL</td>\n",
       "      <td>WELLINGTON</td>\n",
       "      <td>FL</td>\n",
       "      <td>Neurology</td>\n",
       "      <td>S</td>\n",
       "      <td>MORPHINE SULFATE ER</td>\n",
       "      <td>MORPHINE SULFATE</td>\n",
       "      <td>NaN</td>\n",
       "      <td>...</td>\n",
       "      <td>NaN</td>\n",
       "      <td>*</td>\n",
       "      <td>NaN</td>\n",
       "      <td>NaN</td>\n",
       "      <td>17121</td>\n",
       "      <td>Wellington</td>\n",
       "      <td>KS</td>\n",
       "      <td>NaN</td>\n",
       "      <td>Wichita</td>\n",
       "      <td>KS</td>\n",
       "    </tr>\n",
       "  </tbody>\n",
       "</table>\n",
       "<p>5 rows × 25 columns</p>\n",
       "</div>"
      ],
      "text/plain": [
       "              NPI NPPES_PROVIDER_LAST_ORG_NAME NPPES_PROVIDER_FIRST_NAME  \\\n",
       "16490  1326035650                       ABBOTT                     FAITH   \n",
       "23861  1518077056                  ABDEL-HALIM                     JAMAL   \n",
       "23878  1518077056                  ABDEL-HALIM                     JAMAL   \n",
       "23887  1518077056                  ABDEL-HALIM                     JAMAL   \n",
       "23888  1518077056                  ABDEL-HALIM                     JAMAL   \n",
       "\n",
       "      NPPES_PROVIDER_CITY NPPES_PROVIDER_STATE SPECIALTY_DESC  \\\n",
       "16490             SAGINAW                   MI      Neurology   \n",
       "23861          WELLINGTON                   FL      Neurology   \n",
       "23878          WELLINGTON                   FL      Neurology   \n",
       "23887          WELLINGTON                   FL      Neurology   \n",
       "23888          WELLINGTON                   FL      Neurology   \n",
       "\n",
       "      DESCRIPTION_FLAG                  DRUG_NAME               GENERIC_NAME  \\\n",
       "16490                S  HYDROCODONE-ACETAMINOPHEN  HYDROCODONE/ACETAMINOPHEN   \n",
       "23861                S                     AVINZA           MORPHINE SULFATE   \n",
       "23878                S  HYDROCODONE-ACETAMINOPHEN  HYDROCODONE/ACETAMINOPHEN   \n",
       "23887                S           MORPHINE SULFATE           MORPHINE SULFATE   \n",
       "23888                S        MORPHINE SULFATE ER           MORPHINE SULFATE   \n",
       "\n",
       "       BENE_COUNT    ...     TOTAL_CLAIM_COUNT_GE65  GE65_REDACT_FLAG  \\\n",
       "16490         NaN    ...                        NaN                 *   \n",
       "23861         NaN    ...                          0               NaN   \n",
       "23878          25    ...                         36               NaN   \n",
       "23887         NaN    ...                          0               NaN   \n",
       "23888         NaN    ...                        NaN                 *   \n",
       "\n",
       "       TOTAL_DAY_SUPPLY_GE65  TOTAL_DRUG_COST_GE65 hsanum     hsacity  \\\n",
       "16490                    NaN                   NaN  23098     Saginaw   \n",
       "23861                      0                     0  17121  Wellington   \n",
       "23878                   1065                   577  17121  Wellington   \n",
       "23887                      0                     0  17121  Wellington   \n",
       "23888                    NaN                   NaN  17121  Wellington   \n",
       "\n",
       "      hsastate  hrrnum  hrrcity  hrrstate  \n",
       "16490       MI     NaN  Saginaw        MI  \n",
       "23861       KS     NaN  Wichita        KS  \n",
       "23878       KS     NaN  Wichita        KS  \n",
       "23887       KS     NaN  Wichita        KS  \n",
       "23888       KS     NaN  Wichita        KS  \n",
       "\n",
       "[5 rows x 25 columns]"
      ]
     },
     "execution_count": 159,
     "metadata": {},
     "output_type": "execute_result"
    }
   ],
   "source": [
    "subset.head()"
   ]
  },
  {
   "cell_type": "code",
   "execution_count": 169,
   "metadata": {
    "collapsed": false
   },
   "outputs": [],
   "source": [
    "subset.to_csv('opioid_data.csv')"
   ]
  }
 ],
 "metadata": {
  "kernelspec": {
   "display_name": "Python 3",
   "language": "python",
   "name": "python3"
  },
  "language_info": {
   "codemirror_mode": {
    "name": "ipython",
    "version": 3
   },
   "file_extension": ".py",
   "mimetype": "text/x-python",
   "name": "python",
   "nbconvert_exporter": "python",
   "pygments_lexer": "ipython3",
   "version": "3.5.1"
  }
 },
 "nbformat": 4,
 "nbformat_minor": 0
}
