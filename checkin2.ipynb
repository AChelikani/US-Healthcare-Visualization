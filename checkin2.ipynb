{
 "cells": [
  {
   "cell_type": "code",
   "execution_count": null,
   "metadata": {
    "collapsed": false
   },
   "outputs": [
    {
     "name": "stdout",
     "output_type": "stream",
     "text": [
      "100\n",
      "200"
     ]
    }
   ],
   "source": [
    "import requests\n",
    "\n",
    "# Get city, country, country_code, county, state, zipcode from latitude and longitude\n",
    "def reverse_geocode(lat, lon):\n",
    "    d = {\"zipcode\": \"NA\", \"state\": \"NA\", \"country\" : \"NA\", \"county\" : \"NA\", \"city\" : \"NA\", \"country_code\" : \"NA\"}\n",
    "    try:\n",
    "        r = requests.get(\"http://nominatim.openstreetmap.org/reverse?format=json&lat=\" + str(lat) + \n",
    "                         \"&lon=\" + str(lon) + \"&zoom=18&addressdetails=1\")\n",
    "        data = r.json()[\"address\"]\n",
    "        d[\"zipcode\"] = data[\"postcode\"]\n",
    "        d[\"state\"] = data[\"state\"]\n",
    "        d[\"country\"] = data[\"country\"]\n",
    "        d[\"city\"] = data[\"city\"]\n",
    "        d[\"country_code\"] = data[\"country_code\"]\n",
    "        d[\"county\"] = data[\"county\"]\n",
    "        return d\n",
    "    except:\n",
    "        return {\"county\" : \"invalid\"}\n",
    "\n",
    "CAcount = {}\n",
    "count = 0\n",
    "with open('california.txt', 'r') as f:\n",
    "    for line in f:\n",
    "        count += 1\n",
    "        if (count%100 == 0): print count\n",
    "        lat, lon, tags = line.rstrip().split(\"\\t\")\n",
    "        res = reverse_geocode(lat, lon)\n",
    "        county = res[\"county\"]\n",
    "        if county in CAcount:\n",
    "            CAcount[\"county\"] += 1\n",
    "        else:\n",
    "            CAcount[\"county\"] = 1\n",
    "\n",
    "cali_per_county = open(\"CA_hc_per_county.txt\", \"w\")\n",
    "for county in CAcount:\n",
    "    cali_per_county.write(county + \"\\t\" + CAcount[county])\n",
    "\n",
    "cali_per_county.close()"
   ]
  },
  {
   "cell_type": "code",
   "execution_count": null,
   "metadata": {
    "collapsed": false
   },
   "outputs": [],
   "source": [
    "cali = open('california.txt', 'w')\n",
    "\n",
    "# Stores just latitude, longitude, and tags (dentist, pediatrics, etc.)\n",
    "with open('factual.txt', 'r') as f:\n",
    "    attr = f.readline().rstrip().split(\"\\t\")\n",
    "    for line in f:\n",
    "        temp = line.rstrip().split(\"\\t\")\n",
    "        if (temp[6] == \"CA\"):\n",
    "            a, b, c = temp[13], temp[14], temp[19]\n",
    "            cali.write(a + \"\\t\" + b + \"\\t\" + c + \"\\n\")\n",
    "            \n",
    "cali.close()"
   ]
  },
  {
   "cell_type": "code",
   "execution_count": 2,
   "metadata": {
    "collapsed": false
   },
   "outputs": [],
   "source": [
    "state = open('delaware.txt', 'w')\n",
    "\n",
    "# Stores just latitude, longitude, and tags (dentist, pediatrics, etc.)\n",
    "with open('factual.txt', 'r') as f:\n",
    "    attr = f.readline().rstrip().split(\"\\t\")\n",
    "    for line in f:\n",
    "        temp = line.rstrip().split(\"\\t\")\n",
    "        if (temp[6] == \"DE\"):\n",
    "            a, b, c = temp[13], temp[14], temp[19]\n",
    "            state.write(a + \"\\t\" + b + \"\\t\" + c + \"\\n\")\n",
    "            \n",
    "state.close()"
   ]
  },
  {
   "cell_type": "code",
   "execution_count": null,
   "metadata": {
    "collapsed": true
   },
   "outputs": [],
   "source": []
  }
 ],
 "metadata": {
  "kernelspec": {
   "display_name": "Python 2",
   "language": "python",
   "name": "python2"
  },
  "language_info": {
   "codemirror_mode": {
    "name": "ipython",
    "version": 2
   },
   "file_extension": ".py",
   "mimetype": "text/x-python",
   "name": "python",
   "nbconvert_exporter": "python",
   "pygments_lexer": "ipython2",
   "version": "2.7.11"
  }
 },
 "nbformat": 4,
 "nbformat_minor": 0
}
