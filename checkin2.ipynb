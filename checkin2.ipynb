{
 "cells": [
  {
   "cell_type": "code",
   "execution_count": 9,
   "metadata": {
    "collapsed": false
   },
   "outputs": [
    {
     "data": {
      "text/plain": [
       "{'city': u'Modesto',\n",
       " 'country': u'United States of America',\n",
       " 'country_code': u'us',\n",
       " 'county': u'Stanislaus County',\n",
       " 'state': u'California',\n",
       " 'zipcode': u'95356'}"
      ]
     },
     "execution_count": 9,
     "metadata": {},
     "output_type": "execute_result"
    }
   ],
   "source": [
    "import requests\n",
    "\n",
    "# Get city, country, country_code, county, state, zipcode from latitude and longitude\n",
    "def reverse_geocode(lat, lon):\n",
    "    d = {\"zipcode\": \"NA\", \"state\": \"NA\", \"country\" : \"NA\", \"county\" : \"NA\", \"city\" : \"NA\", \"country_code\" : \"NA\"}\n",
    "    try:\n",
    "        r = requests.get(\"http://nominatim.openstreetmap.org/reverse?format=json&lat=\" + str(lat) + \n",
    "                         \"&lon=\" + str(lon) + \"&zoom=18&addressdetails=1\")\n",
    "        data = r.json()[\"address\"]\n",
    "        d[\"zipcode\"] = data[\"postcode\"]\n",
    "        d[\"state\"] = data[\"state\"]\n",
    "        d[\"country\"] = data[\"country\"]\n",
    "        d[\"city\"] = data[\"city\"]\n",
    "        d[\"country_code\"] = data[\"country_code\"]\n",
    "        d[\"county\"] = data[\"county\"]\n",
    "        return d\n",
    "    except:\n",
    "        return {}\n",
    "\n",
    "reverse_geocode(37.701268, -121.05034)\n",
    "\n"
   ]
  },
  {
   "cell_type": "code",
   "execution_count": null,
   "metadata": {
    "collapsed": true
   },
   "outputs": [],
   "source": []
  }
 ],
 "metadata": {
  "kernelspec": {
   "display_name": "Python 2",
   "language": "python",
   "name": "python2"
  },
  "language_info": {
   "codemirror_mode": {
    "name": "ipython",
    "version": 2
   },
   "file_extension": ".py",
   "mimetype": "text/x-python",
   "name": "python",
   "nbconvert_exporter": "python",
   "pygments_lexer": "ipython2",
   "version": "2.7.11"
  }
 },
 "nbformat": 4,
 "nbformat_minor": 0
}
