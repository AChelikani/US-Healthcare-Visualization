{
 "cells": [
  {
   "cell_type": "code",
   "execution_count": 20,
   "metadata": {
    "collapsed": false
   },
   "outputs": [],
   "source": [
    "# Stores just latitude, longitude, and tags (dentist, pediatrics, etc.)\n",
    "\n",
    "zcode = {}\n",
    "c = 0\n",
    "with open('factual.txt', 'r') as f:\n",
    "    attr = f.readline().rstrip().split(\"\\t\")\n",
    "    #print attr\n",
    "    for line in f:\n",
    "        if (True):\n",
    "            temp = line.rstrip().split(\"\\t\")\n",
    "            a, b = temp[9], temp[19]\n",
    "            b = eval(b)[0]\n",
    "            if a in zcode:\n",
    "                for item in b:\n",
    "                    if item in zcode[a]:\n",
    "                        zcode[a][item] += 1\n",
    "                    else:\n",
    "                        zcode[a][item] = 1\n",
    "            else:\n",
    "                zcode[a] = {}\n",
    "                for item in b:\n",
    "                    zcode[a][item] = 1\n",
    "            c += 1\n",
    "\n",
    "f = open('prof_by_zipcode.txt', 'w')\n",
    "for zipcode in zcode:\n",
    "    f.write(\"%s\\n\" %zipcode)\n",
    "    for prof in zcode[zipcode]:\n",
    "        f.write(\"%s: %d\\n\" %(prof, zcode[zipcode][prof]))\n",
    "    #f.write(\"\\n\")\n",
    "f.close()"
   ]
  },
  {
   "cell_type": "markdown",
   "metadata": {},
   "source": []
  }
 ],
 "metadata": {
  "kernelspec": {
   "display_name": "Python 2",
   "language": "python",
   "name": "python2"
  },
  "language_info": {
   "codemirror_mode": {
    "name": "ipython",
    "version": 2
   },
   "file_extension": ".py",
   "mimetype": "text/x-python",
   "name": "python",
   "nbconvert_exporter": "python",
   "pygments_lexer": "ipython2",
   "version": "2.7.11"
  }
 },
 "nbformat": 4,
 "nbformat_minor": 0
}
