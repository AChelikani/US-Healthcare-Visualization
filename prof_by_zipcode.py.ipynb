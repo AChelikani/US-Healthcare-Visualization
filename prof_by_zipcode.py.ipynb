{
 "cells": [
  {
   "cell_type": "code",
   "execution_count": 20,
   "metadata": {
    "collapsed": false
   },
   "outputs": [],
   "source": [
    "# Stores just latitude, longitude, and tags (dentist, pediatrics, etc.)\n",
    "\n",
    "zcode = {}\n",
    "c = 0\n",
    "with open('factual.txt', 'r') as f:\n",
    "    attr = f.readline().rstrip().split(\"\\t\")\n",
    "    #print attr\n",
    "    for line in f:\n",
    "        if (True):\n",
    "            temp = line.rstrip().split(\"\\t\")\n",
    "            a, b = temp[9], temp[19]\n",
    "            b = eval(b)[0]\n",
    "            if a in zcode:\n",
    "                for item in b:\n",
    "                    if item in zcode[a]:\n",
    "                        zcode[a][item] += 1\n",
    "                    else:\n",
    "                        zcode[a][item] = 1\n",
    "            else:\n",
    "                zcode[a] = {}\n",
    "                for item in b:\n",
    "                    zcode[a][item] = 1\n",
    "            c += 1\n",
    "\n",
    "f = open('prof_by_zipcode.txt', 'w')\n",
    "for zipcode in zcode:\n",
    "    f.write(\"%s\\n\" %zipcode)\n",
    "    for prof in zcode[zipcode]:\n",
    "        f.write(\"%s: %d\\n\" %(prof, zcode[zipcode][prof]))\n",
    "    #f.write(\"\\n\")\n",
    "f.close()"
   ]
  },
  {
   "cell_type": "code",
   "execution_count": 11,
   "metadata": {
    "collapsed": false
   },
   "outputs": [],
   "source": [
    "# Stores just latitude, longitude, and tags (dentist, pediatrics, etc.)\n",
    "# Cardiologists, Orthopedic Surgeons, Family Medicine, Neurologists, Psychologists\n",
    "zcode = {}\n",
    "c = 0\n",
    "PROFESSION = \"Psychologists\"\n",
    "END_FILE = \"psychologists.txt\"\n",
    "with open('factual.txt', 'r') as f:\n",
    "    attr = f.readline().rstrip().split(\"\\t\")\n",
    "    #print attr\n",
    "    for line in f:\n",
    "        if (True):\n",
    "            temp = line.rstrip().split(\"\\t\")\n",
    "            a, b = temp[9], temp[19]\n",
    "            b = eval(b)[0]\n",
    "            if a in zcode:\n",
    "                for item in b:\n",
    "                    if (item == PROFESSION):\n",
    "                        if item in zcode[a]:\n",
    "                            zcode[a][item] += 1\n",
    "                        else:\n",
    "                            zcode[a][item] = 1\n",
    "            else:\n",
    "                zcode[a] = {}\n",
    "                for item in b:\n",
    "                    if (item == PROFESSION):\n",
    "                        zcode[a][item] = 1\n",
    "            c += 1\n",
    "\n",
    "f = open(END_FILE, 'w')\n",
    "for zipcode in zcode:\n",
    "    f.write(zipcode)\n",
    "    if (len(zcode[zipcode]) == 0):\n",
    "        f.write(\",0\\n\")\n",
    "    else:\n",
    "        f.write(\",\" + str(zcode[zipcode][PROFESSION]) + \"\\n\")\n",
    "f.close()"
   ]
  },
  {
   "cell_type": "code",
   "execution_count": null,
   "metadata": {
    "collapsed": true
   },
   "outputs": [],
   "source": [
    "# Cardiologists: http://www.openheatmap.com/view.html?map=GermanasAssuredsToheroas\n",
    "# Family Medicine: http://www.openheatmap.com/view.html?map=IncisivenesssGawkihoodsMilium\n",
    "# Orthopedic Surgeons: http://www.openheatmap.com/view.html?map=CeratospongianRhinophisSaussure\n",
    "# Neurologists: http://www.openheatmap.com/view.html?map=KowtkosProphyllsSeminifical"
   ]
  },
  {
   "cell_type": "markdown",
   "metadata": {},
   "source": []
  }
 ],
 "metadata": {
  "kernelspec": {
   "display_name": "Python 2",
   "language": "python",
   "name": "python2"
  },
  "language_info": {
   "codemirror_mode": {
    "name": "ipython",
    "version": 2
   },
   "file_extension": ".py",
   "mimetype": "text/x-python",
   "name": "python",
   "nbconvert_exporter": "python",
   "pygments_lexer": "ipython2",
   "version": "2.7.11"
  }
 },
 "nbformat": 4,
 "nbformat_minor": 0
}
