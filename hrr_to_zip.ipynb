{
 "cells": [
  {
   "cell_type": "code",
   "execution_count": 26,
   "metadata": {
    "collapsed": false
   },
   "outputs": [
    {
     "name": "stdout",
     "output_type": "stream",
     "text": [
      "40996\n"
     ]
    }
   ],
   "source": [
    "import csv\n",
    "\n",
    "hrr_to_zip = {}\n",
    "zip_to_hrr = {}\n",
    "c = 0\n",
    "\n",
    "# Create dictionary mapping hrr 3-digit code to zipcode\n",
    "# Also creates dictionary mapping zipcodes to 3-digit hrr codes\n",
    "# 306 unique HRRs and 40996 unique zipcodes\n",
    "with open(\"ziptohrr.csv\", 'rU') as csvfile:\n",
    "    reader = csv.reader(csvfile, dialect=csv.excel_tab)\n",
    "    for row in reader:\n",
    "        l = row[0].split(\",\")\n",
    "        if (int(l[1]) not in hrr_to_zip):\n",
    "            hrr_to_zip[int(l[1])] = [int(l[0])]\n",
    "        else:\n",
    "            hrr_to_zip[int(l[1])] += [int(l[0])]\n",
    "        if (int(l[0]) not in zip_to_hrr):\n",
    "            zip_to_hrr[int(l[0])] = int(l[1])\n",
    "\n",
    "\n",
    "zip_to_PSA = {}\n",
    "zip_to_mammogram = {}\n",
    "zip_to_feedingtube = {}\n",
    "\n",
    "# PSA, mammogram, feeding tube\n",
    "with open(\"dataset1.csv\", 'rU') as csvfile:\n",
    "    reader = csv.reader(csvfile, dialect=csv.excel_tab)\n",
    "    for row in reader:\n",
    "        l = row[0].split(\",\")\n",
    "        hrr, psa, mammogram, feedingtube = int(l[0]), float(l[3]), float(l[4]), float(l[6])\n",
    "        zipcodes = hrr_to_zip[hrr]\n",
    "        for zipcode in zipcodes:\n",
    "            zip_to_PSA[zipcode] = psa\n",
    "            zip_to_mammogram[zipcode] = mammogram\n",
    "            zip_to_feedingtube[zipcode] = feedingtube\n",
    "\n",
    "            \n",
    "zip_to_ECG = {}\n",
    "\n",
    "# ECG\n",
    "with open(\"dataset2.csv\", 'rU') as csvfile:\n",
    "    reader = csv.reader(csvfile, dialect=csv.excel_tab)\n",
    "    for row in reader:\n",
    "        l = row[0].split(\",\")\n",
    "        hrr, ecgDenom, ecgNum = int(l[3]), float(l[5]), float(l[7])\n",
    "        ecg = ecgNum / ecgDenom\n",
    "        zipcodes = hrr_to_zip[hrr]\n",
    "        for zipcode in zipcodes:\n",
    "            zip_to_ECG[zipcode] = ecg\n",
    "\n",
    "zip_to_bones = {}\n",
    "\n",
    "# Hip Replacements\n",
    "with open(\"hipreplacements.csv\", 'rU') as csvfile:\n",
    "    reader = csv.reader(csvfile, dialect=csv.excel_tab)\n",
    "    for row in reader:\n",
    "        l = row[0].split(\",\")\n",
    "        hrr, bonesDenom, bonesNum = int(l[3]), float(l[5]), float(l[7])\n",
    "        bones = (bonesNum / bonesDenom)*1000\n",
    "        zipcodes = hrr_to_zip[hrr]\n",
    "        for zipcode in zipcodes:\n",
    "            zip_to_bones[zipcode] = bones\n"
   ]
  },
  {
   "cell_type": "code",
   "execution_count": null,
   "metadata": {
    "collapsed": true
   },
   "outputs": [],
   "source": []
  }
 ],
 "metadata": {
  "kernelspec": {
   "display_name": "Python 2",
   "language": "python",
   "name": "python2"
  },
  "language_info": {
   "codemirror_mode": {
    "name": "ipython",
    "version": 2
   },
   "file_extension": ".py",
   "mimetype": "text/x-python",
   "name": "python",
   "nbconvert_exporter": "python",
   "pygments_lexer": "ipython2",
   "version": "2.7.11"
  }
 },
 "nbformat": 4,
 "nbformat_minor": 0
}
